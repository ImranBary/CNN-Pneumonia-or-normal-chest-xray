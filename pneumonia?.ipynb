{
 "cells": [
  {
   "cell_type": "code",
   "execution_count": 71,
   "id": "ed757916",
   "metadata": {},
   "outputs": [],
   "source": [
    "import numpy as np\n",
    "import os\n",
    "import PIL\n",
    "import PIL.Image\n",
    "import tensorflow as tf\n",
    "import tensorflow_datasets as tfds\n",
    "\n",
    "train_dir = os.path.join('chest_xray/train/')\n",
    "eval_dir = os.path.join('chest_xray/test/')"
   ]
  },
  {
   "cell_type": "code",
   "execution_count": 72,
   "id": "32ca64c9",
   "metadata": {},
   "outputs": [],
   "source": [
    "ACCURACY_THRESHOLD = 0.95\n",
    "\n",
    "class myCallback(tf.keras.callbacks.Callback):\n",
    "    def on_epoch_end(self,epoch,logs={}):\n",
    "        if (logs.get('val_accuracy')> 0.85 and logs.get('val_accuracy') < 1):\n",
    "            print(\"\\nReached desired accuracy, so stopping training!!\")\n",
    "            self.model.stop_training = True\n",
    "callbacks = myCallback()"
   ]
  },
  {
   "cell_type": "code",
   "execution_count": 73,
   "id": "ac89d499",
   "metadata": {},
   "outputs": [
    {
     "name": "stdout",
     "output_type": "stream",
     "text": [
      "Found 10448 images belonging to 2 classes.\n"
     ]
    }
   ],
   "source": [
    "from tensorflow.keras.preprocessing.image import ImageDataGenerator,img_to_array,load_img\n",
    "batch_size = 30\n",
    "\n",
    "\n",
    "# All images will be rescaled by 1./255\n",
    "train_datagen = ImageDataGenerator(rescale=1./255\n",
    "                                   ,zoom_range = [0.9,1.1]\n",
    "                                   ,width_shift_range=0.1\n",
    "                                   ,height_shift_range=0.1\n",
    "                                   ,horizontal_flip = True\n",
    "                                   ,fill_mode='constant')\n",
    "\n",
    "train_generator = train_datagen.flow_from_directory(\n",
    "  train_dir,\n",
    "  batch_size = batch_size ,\n",
    "  target_size=(150, 150),\n",
    "  class_mode='binary'\n",
    ")"
   ]
  },
  {
   "cell_type": "code",
   "execution_count": 74,
   "id": "d3ca2315",
   "metadata": {},
   "outputs": [
    {
     "name": "stdout",
     "output_type": "stream",
     "text": [
      "Found 1248 images belonging to 2 classes.\n"
     ]
    }
   ],
   "source": [
    "# All images will be rescaled by 1./255\n",
    "eval_datagen = ImageDataGenerator(rescale=1./255)\n",
    "\n",
    "eval_generator = eval_datagen.flow_from_directory(\n",
    "  eval_dir,\n",
    "  batch_size = batch_size ,\n",
    "  target_size=(150, 150),\n",
    "  class_mode='binary'\n",
    ")"
   ]
  },
  {
   "cell_type": "code",
   "execution_count": 75,
   "id": "c463b5cf",
   "metadata": {},
   "outputs": [
    {
     "data": {
      "text/plain": [
       "'\\nimg = load_img (\\'chest_xray/train/PNEUMONIA/person423_bacteria_1855.jpeg\\')\\nx = img_to_array(img)\\nx = x.reshape((1,)+x.shape)\\ni = 0\\nfor batch in train_datagen.flow(x,batch_size=1,\\n                         save_to_dir=\\'augmented\\',save_prefix=\\'aug\\',save_format=\"jpeg\"):\\n    i +=1\\n    if i > 20:\\n        break\\n'"
      ]
     },
     "execution_count": 75,
     "metadata": {},
     "output_type": "execute_result"
    }
   ],
   "source": [
    "'''\n",
    "img = load_img ('chest_xray/train/PNEUMONIA/person423_bacteria_1855.jpeg')\n",
    "x = img_to_array(img)\n",
    "x = x.reshape((1,)+x.shape)\n",
    "i = 0\n",
    "for batch in train_datagen.flow(x,batch_size=1,\n",
    "                         save_to_dir='augmented',save_prefix='aug',save_format=\"jpeg\"):\n",
    "    i +=1\n",
    "    if i > 20:\n",
    "        break\n",
    "'''"
   ]
  },
  {
   "cell_type": "code",
   "execution_count": 76,
   "id": "95a41082",
   "metadata": {
    "scrolled": true
   },
   "outputs": [],
   "source": [
    "\n",
    "model = tf.keras.models.Sequential([\n",
    "    tf.keras.layers.Conv2D(32, (4,4), activation='relu', input_shape=(150, 150, 3)),\n",
    "    #tf.keras.layers.MaxPooling2D(3, 3),\n",
    "    tf.keras.layers.BatchNormalization(),\n",
    "    tf.keras.layers.MaxPooling2D(2, 2),\n",
    "    #tf.keras.layers.Dropout(0.1),\n",
    "    \n",
    "    tf.keras.layers.Conv2D(64, (4,4), activation='relu'),\n",
    "    tf.keras.layers.Dropout(0.1),\n",
    "    tf.keras.layers.BatchNormalization(),\n",
    "    tf.keras.layers.MaxPooling2D(2, 2),\n",
    " \n",
    "    \n",
    "    \n",
    "    tf.keras.layers.Conv2D(64, (4,4), activation='relu'),\n",
    "    tf.keras.layers.BatchNormalization(),\n",
    "    tf.keras.layers.MaxPooling2D(2, 2),\n",
    "\n",
    "    \n",
    "    tf.keras.layers.Conv2D(128, (4,4), activation='relu'),\n",
    "    tf.keras.layers.Dropout(0.2),\n",
    "    tf.keras.layers.BatchNormalization(),\n",
    "    tf.keras.layers.MaxPooling2D(2, 2),\n",
    "    \n",
    "    tf.keras.layers.Conv2D(256, (4,4), activation='relu'),\n",
    "    tf.keras.layers.Dropout(0.2),\n",
    "    tf.keras.layers.BatchNormalization(),\n",
    "    tf.keras.layers.MaxPooling2D(2, 2),\n",
    "   \n",
    "    #\n",
    "    \n",
    "    tf.keras.layers.Flatten(),\n",
    "    \n",
    "    tf.keras.layers.Dense(128, activation='relu'),\n",
    "    tf.keras.layers.Dropout(0.2),\n",
    "    #tf.keras.layers.Dense(8, activation='relu'),\n",
    "    tf.keras.layers.Dense(1, activation='sigmoid')\n",
    "])\n"
   ]
  },
  {
   "cell_type": "code",
   "execution_count": 77,
   "id": "a8aaef05",
   "metadata": {},
   "outputs": [
    {
     "name": "stdout",
     "output_type": "stream",
     "text": [
      "Model: \"sequential_6\"\n",
      "_________________________________________________________________\n",
      " Layer (type)                Output Shape              Param #   \n",
      "=================================================================\n",
      " conv2d_22 (Conv2D)          (None, 147, 147, 32)      1568      \n",
      "                                                                 \n",
      " batch_normalization_20 (Bat  (None, 147, 147, 32)     128       \n",
      " chNormalization)                                                \n",
      "                                                                 \n",
      " max_pooling2d_20 (MaxPoolin  (None, 73, 73, 32)       0         \n",
      " g2D)                                                            \n",
      "                                                                 \n",
      " conv2d_23 (Conv2D)          (None, 70, 70, 64)        32832     \n",
      "                                                                 \n",
      " dropout_21 (Dropout)        (None, 70, 70, 64)        0         \n",
      "                                                                 \n",
      " batch_normalization_21 (Bat  (None, 70, 70, 64)       256       \n",
      " chNormalization)                                                \n",
      "                                                                 \n",
      " max_pooling2d_21 (MaxPoolin  (None, 35, 35, 64)       0         \n",
      " g2D)                                                            \n",
      "                                                                 \n",
      " conv2d_24 (Conv2D)          (None, 32, 32, 64)        65600     \n",
      "                                                                 \n",
      " batch_normalization_22 (Bat  (None, 32, 32, 64)       256       \n",
      " chNormalization)                                                \n",
      "                                                                 \n",
      " max_pooling2d_22 (MaxPoolin  (None, 16, 16, 64)       0         \n",
      " g2D)                                                            \n",
      "                                                                 \n",
      " conv2d_25 (Conv2D)          (None, 13, 13, 128)       131200    \n",
      "                                                                 \n",
      " dropout_22 (Dropout)        (None, 13, 13, 128)       0         \n",
      "                                                                 \n",
      " batch_normalization_23 (Bat  (None, 13, 13, 128)      512       \n",
      " chNormalization)                                                \n",
      "                                                                 \n",
      " max_pooling2d_23 (MaxPoolin  (None, 6, 6, 128)        0         \n",
      " g2D)                                                            \n",
      "                                                                 \n",
      " conv2d_26 (Conv2D)          (None, 3, 3, 256)         524544    \n",
      "                                                                 \n",
      " dropout_23 (Dropout)        (None, 3, 3, 256)         0         \n",
      "                                                                 \n",
      " batch_normalization_24 (Bat  (None, 3, 3, 256)        1024      \n",
      " chNormalization)                                                \n",
      "                                                                 \n",
      " max_pooling2d_24 (MaxPoolin  (None, 1, 1, 256)        0         \n",
      " g2D)                                                            \n",
      "                                                                 \n",
      " flatten_6 (Flatten)         (None, 256)               0         \n",
      "                                                                 \n",
      " dense_17 (Dense)            (None, 128)               32896     \n",
      "                                                                 \n",
      " dropout_24 (Dropout)        (None, 128)               0         \n",
      "                                                                 \n",
      " dense_18 (Dense)            (None, 1)                 129       \n",
      "                                                                 \n",
      "=================================================================\n",
      "Total params: 790,945\n",
      "Trainable params: 789,857\n",
      "Non-trainable params: 1,088\n",
      "_________________________________________________________________\n"
     ]
    }
   ],
   "source": [
    "model.summary()"
   ]
  },
  {
   "cell_type": "code",
   "execution_count": 78,
   "id": "2df22e2e",
   "metadata": {
    "scrolled": true
   },
   "outputs": [],
   "source": [
    "from tensorflow.keras.optimizers import RMSprop\n",
    "\n",
    "model.compile(loss='binary_crossentropy',\n",
    "              optimizer=RMSprop(lr=0.001),\n",
    "              metrics=['accuracy'])"
   ]
  },
  {
   "cell_type": "code",
   "execution_count": 79,
   "id": "42873de0",
   "metadata": {
    "scrolled": true
   },
   "outputs": [
    {
     "name": "stderr",
     "output_type": "stream",
     "text": [
      "/var/folders/k3/gcflkw4j1lx_kn_v5p132mym0000gn/T/ipykernel_27432/4175772893.py:1: UserWarning: `Model.fit_generator` is deprecated and will be removed in a future version. Please use `Model.fit`, which supports generators.\n",
      "  history = model.fit_generator(\n"
     ]
    },
    {
     "name": "stdout",
     "output_type": "stream",
     "text": [
      "Epoch 1/10\n"
     ]
    },
    {
     "name": "stderr",
     "output_type": "stream",
     "text": [
      "2022-05-20 15:45:49.441281: I tensorflow/core/grappler/optimizers/custom_graph_optimizer_registry.cc:113] Plugin optimizer for device_type GPU is enabled.\n"
     ]
    },
    {
     "name": "stdout",
     "output_type": "stream",
     "text": [
      "348/348 [==============================] - ETA: 0s - loss: 0.2597 - accuracy: 0.8967"
     ]
    },
    {
     "name": "stderr",
     "output_type": "stream",
     "text": [
      "2022-05-20 15:47:11.515799: I tensorflow/core/grappler/optimizers/custom_graph_optimizer_registry.cc:113] Plugin optimizer for device_type GPU is enabled.\n"
     ]
    },
    {
     "name": "stdout",
     "output_type": "stream",
     "text": [
      "348/348 [==============================] - 89s 245ms/step - loss: 0.2597 - accuracy: 0.8967 - val_loss: 4.8539 - val_accuracy: 0.6252\n",
      "Epoch 2/10\n",
      "348/348 [==============================] - 83s 239ms/step - loss: 0.1593 - accuracy: 0.9411 - val_loss: 0.3038 - val_accuracy: 0.8675\n",
      "Epoch 3/10\n",
      "348/348 [==============================] - 83s 240ms/step - loss: 0.1327 - accuracy: 0.9519 - val_loss: 0.3250 - val_accuracy: 0.8724\n",
      "Epoch 4/10\n",
      "348/348 [==============================] - 83s 239ms/step - loss: 0.1183 - accuracy: 0.9564 - val_loss: 0.3341 - val_accuracy: 0.8455\n",
      "Epoch 5/10\n",
      "348/348 [==============================] - 83s 239ms/step - loss: 0.1090 - accuracy: 0.9609 - val_loss: 0.4059 - val_accuracy: 0.8081\n",
      "Epoch 6/10\n",
      "348/348 [==============================] - 84s 241ms/step - loss: 0.1044 - accuracy: 0.9625 - val_loss: 0.4352 - val_accuracy: 0.8146\n",
      "Epoch 7/10\n",
      "348/348 [==============================] - 83s 239ms/step - loss: 0.0960 - accuracy: 0.9644 - val_loss: 0.3039 - val_accuracy: 0.8821\n",
      "Epoch 8/10\n",
      "348/348 [==============================] - 84s 240ms/step - loss: 0.0923 - accuracy: 0.9661 - val_loss: 0.2870 - val_accuracy: 0.8846\n",
      "Epoch 9/10\n",
      "348/348 [==============================] - 83s 239ms/step - loss: 0.0913 - accuracy: 0.9652 - val_loss: 0.2418 - val_accuracy: 0.9130\n",
      "Epoch 10/10\n",
      "348/348 [==============================] - 84s 240ms/step - loss: 0.0872 - accuracy: 0.9670 - val_loss: 0.3005 - val_accuracy: 0.9130\n"
     ]
    }
   ],
   "source": [
    "\n",
    "history = model.fit_generator(\n",
    "      train_generator,\n",
    "      steps_per_epoch=10448//batch_size ,     \n",
    "      epochs=10,\n",
    "      validation_data=eval_generator,\n",
    "      validation_steps= 1248//batch_size ,\n",
    "      verbose=1,\n",
    "      #callbacks=[callbacks]\n",
    ")"
   ]
  },
  {
   "cell_type": "code",
   "execution_count": 80,
   "id": "ee560d65",
   "metadata": {},
   "outputs": [
    {
     "name": "stderr",
     "output_type": "stream",
     "text": [
      "2022-05-20 15:59:48.862201: I tensorflow/core/grappler/optimizers/custom_graph_optimizer_registry.cc:113] Plugin optimizer for device_type GPU is enabled.\n"
     ]
    },
    {
     "name": "stdout",
     "output_type": "stream",
     "text": [
      "WARNING:tensorflow:5 out of the last 11 calls to <function Model.make_predict_function.<locals>.predict_function at 0x3077b5310> triggered tf.function retracing. Tracing is expensive and the excessive number of tracings could be due to (1) creating @tf.function repeatedly in a loop, (2) passing tensors with different shapes, (3) passing Python objects instead of tensors. For (1), please define your @tf.function outside of the loop. For (2), @tf.function has experimental_relax_shapes=True option that relaxes argument shapes that can avoid unnecessary retracing. For (3), please refer to https://www.tensorflow.org/guide/function#controlling_retracing and https://www.tensorflow.org/api_docs/python/tf/function for  more details.\n",
      "[[1.]]\n"
     ]
    }
   ],
   "source": [
    "from keras.preprocessing import image\n",
    "\n",
    "\n",
    "\n",
    "img =  image.load_img('chest_xray/train/NORMAL/NORMAL2-IM-0840-0001.jpeg',target_size=(150,150))\n",
    "#Chest_eval/infected2.jpeg\n",
    "x = image.img_to_array(img)\n",
    "x = np.expand_dims(x,axis=0)\n",
    "\n",
    "\n",
    "images = np.vstack([x])\n",
    "classes = model.predict(images,batch_size=10)\n",
    "\n",
    "print (classes)\n",
    "\n"
   ]
  },
  {
   "cell_type": "code",
   "execution_count": 81,
   "id": "b73e54bc",
   "metadata": {},
   "outputs": [
    {
     "name": "stdout",
     "output_type": "stream",
     "text": [
      "[[1.]]\n"
     ]
    }
   ],
   "source": [
    "from keras.preprocessing import image\n",
    "\n",
    "\n",
    "\n",
    "img =  image.load_img('chest_xray/train/PNEUMONIA/person508_bacteria_2144.jpeg',target_size=(150,150))\n",
    "\n",
    "x = image.img_to_array(img)\n",
    "x = np.expand_dims(x,axis=0)\n",
    "\n",
    "\n",
    "images = np.vstack([x])\n",
    "classes = model.predict(images,batch_size=10)\n",
    "\n",
    "print (classes)\n",
    "\n"
   ]
  },
  {
   "cell_type": "code",
   "execution_count": 82,
   "id": "a70d17c7",
   "metadata": {},
   "outputs": [
    {
     "name": "stdout",
     "output_type": "stream",
     "text": [
      "42/42 [==============================] - 6s 146ms/step - loss: 0.3004 - accuracy: 0.9127\n",
      "Loss of the model is -  0.30044543743133545\n",
      "Accuracy of the model is -  91.26602411270142 %\n"
     ]
    }
   ],
   "source": [
    "test_acc = model.evaluate(eval_generator,verbose=1)\n",
    "\n",
    "print(\"Loss of the model is - \" ,test_acc[0])\n",
    "print(\"Accuracy of the model is - \" ,test_acc[1]*100 , \"%\")"
   ]
  },
  {
   "cell_type": "code",
   "execution_count": 88,
   "id": "975d8f7f",
   "metadata": {},
   "outputs": [
    {
     "data": {
      "image/png": "[encoded data removed]",
      "text/plain": [
       "<Figure size 432x288 with 1 Axes>"
      ]
     },
     "metadata": {
      "needs_background": "light"
     },
     "output_type": "display_data"
    }
   ],
   "source": [
    "from matplotlib import pyplot as plt\n",
    "\n",
    "plt.plot(history.history['accuracy'])\n",
    "plt.plot(history.history['val_accuracy'],'r')\n",
    "\n",
    "plt.show()"
   ]
  },
  {
   "cell_type": "code",
   "execution_count": 89,
   "id": "519886ae",
   "metadata": {},
   "outputs": [
    {
     "data": {
      "image/png": "[encoded data removed]",
      "text/plain": [
       "<Figure size 432x288 with 1 Axes>"
      ]
     },
     "metadata": {
      "needs_background": "light"
     },
     "output_type": "display_data"
    }
   ],
   "source": [
    "plt.plot(history.history['loss'])\n",
    "plt.plot(history.history['val_loss'],'r')\n",
    "plt.show()\n"
   ]
  },
  {
   "cell_type": "code",
   "execution_count": null,
   "id": "461a76ce",
   "metadata": {},
   "outputs": [],
   "source": []
  }
 ],
 "metadata": {
  "kernelspec": {
   "display_name": "Python 3 (ipykernel)",
   "language": "python",
   "name": "python3"
  },
  "language_info": {
   "codemirror_mode": {
    "name": "ipython",
    "version": 3
   },
   "file_extension": ".py",
   "mimetype": "text/x-python",
   "name": "python",
   "nbconvert_exporter": "python",
   "pygments_lexer": "ipython3",
   "version": "3.9.10"
  }
 },
 "nbformat": 4,
 "nbformat_minor": 5
}
